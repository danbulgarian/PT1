{
 "cells": [
  {
   "cell_type": "code",
   "execution_count": 22,
   "metadata": {},
   "outputs": [
    {
     "name": "stdout",
     "output_type": "stream",
     "text": [
      "Само ЦСКА\n"
     ]
    }
   ],
   "source": [
    "a = 8\n",
    "b = 4\n",
    "if a < b:\n",
    "    print(\"Кур За Левски\")\n",
    "if a > b:\n",
    "    print(\"Само ЦСКА\")"
   ]
  },
  {
   "cell_type": "code",
   "execution_count": 8,
   "metadata": {},
   "outputs": [
    {
     "name": "stdout",
     "output_type": "stream",
     "text": [
      "c is not less than d\n",
      "i dont think c is less than d\n",
      "outside the if block\n"
     ]
    }
   ],
   "source": [
    "c = 5\n",
    "d = 4\n",
    "if c < d:\n",
    "    print(\"c is less than d\")\n",
    "else:\n",
    "    print(\"c is not less than d\")\n",
    "    print(\"i dont think c is less than d\")\n",
    "print(\"outside the if block\")"
   ]
  },
  {
   "cell_type": "code",
   "execution_count": 15,
   "metadata": {},
   "outputs": [
    {
     "name": "stdout",
     "output_type": "stream",
     "text": [
      "e is greater than f by more than 10\n"
     ]
    }
   ],
   "source": [
    "e = 19\n",
    "f = 8\n",
    "if e < f:\n",
    "    print(\"e is less than f\")\n",
    "elif e == f:\n",
    "    print(\"e is equal to f\")\n",
    "elif e > f + 10:\n",
    "    print(\"e is greater than f by more than 10\")\n",
    "else:\n",
    "    print(\"e is greater than f\")"
   ]
  },
  {
   "cell_type": "code",
   "execution_count": 17,
   "metadata": {},
   "outputs": [
    {
     "name": "stdout",
     "output_type": "stream",
     "text": [
      "g is less than h\n"
     ]
    }
   ],
   "source": [
    "g = 7\n",
    "h = 8\n",
    "if g < h:\n",
    "    print(\"g is less than h\")\n",
    "else:\n",
    "    if g == h:\n",
    "        print(\"g is equal to h\")\n",
    "    else:\n",
    "        print(\"g is greater than h\")"
   ]
  },
  {
   "cell_type": "code",
   "execution_count": 19,
   "metadata": {},
   "outputs": [
    {
     "name": "stdout",
     "output_type": "stream",
     "text": [
      "bmi: \n",
      "30.0\n",
      "Max\n",
      "is overweight\n"
     ]
    }
   ],
   "source": [
    "name = \"Max\"\n",
    "height_m = 2\n",
    "weight_kg = 120\n",
    "\n",
    "bmi = weight_kg / (height_m ** 2)\n",
    "print(\"bmi: \")\n",
    "print(bmi)\n",
    "if bmi < 25:\n",
    "    print(name)\n",
    "    print(\"is not overweight.\")\n",
    "else:\n",
    "    print(name)\n",
    "    print(\"is overweight\")"
   ]
  }
 ],
 "metadata": {
  "kernelspec": {
   "display_name": "Python 3",
   "language": "python",
   "name": "python3"
  },
  "language_info": {
   "codemirror_mode": {
    "name": "ipython",
    "version": 3
   },
   "file_extension": ".py",
   "mimetype": "text/x-python",
   "name": "python",
   "nbconvert_exporter": "python",
   "pygments_lexer": "ipython3",
   "version": "3.7.1"
  }
 },
 "nbformat": 4,
 "nbformat_minor": 2
}
